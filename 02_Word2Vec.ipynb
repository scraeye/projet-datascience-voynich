{
 "cells": [
  {
   "cell_type": "markdown",
   "metadata": {},
   "source": [
    "<img src=\"https://datascientest.fr/train/assets/logo_datascientest.png\" style=\"height:150px\">\n",
    "\n",
    "<hr style=\"border-width:2px;border-color:#75DFC1\">\n",
    "<center><h1>Projet Data Science</h1></center>\n",
    "<center><h2>Voynich</h2></center>\n",
    "<hr style=\"border-width:2px;border-color:#75DFC1\">\n",
    "\n",
    "<blockquote>\n",
    "    \n",
    "</blockquote>\n",
    "\n",
    "* importer <code>pandas</code> et charger le jeu de données\n",
    "* afficher les 5 premières lignes    "
   ]
  },
  {
   "cell_type": "code",
   "execution_count": 1,
   "metadata": {},
   "outputs": [],
   "source": [
    "# Insérer le code ici\n",
    "import pandas as pd\n",
    "import numpy as np\n",
    "import matplotlib.pyplot as plt\n",
    "import tensorflow as tf\n",
    "from sklearn.feature_extraction.text import CountVectorizer\n",
    "from nltk.tokenize.regexp import RegexpTokenizer\n"
   ]
  },
  {
   "cell_type": "code",
   "execution_count": 2,
   "metadata": {},
   "outputs": [],
   "source": [
    "file = open(\"voynich.txt\", \"r\") \n",
    "txt = file.read()\n",
    "file.close()\n",
    "\n",
    "mots = txt.split(\" \")"
   ]
  },
  {
   "cell_type": "code",
   "execution_count": 3,
   "metadata": {},
   "outputs": [
    {
     "data": {
      "text/plain": [
       "CountVectorizer()"
      ]
     },
     "execution_count": 3,
     "metadata": {},
     "output_type": "execute_result"
    }
   ],
   "source": [
    "\n",
    "tokenizer = RegexpTokenizer(\"[a-zA-Z]{2,}\")\n",
    "word_list = tokenizer.tokenize(txt.lower())\n",
    "\n",
    "vectorizer = CountVectorizer()\n",
    "vectorizer.fit(word_list)"
   ]
  },
  {
   "cell_type": "code",
   "execution_count": 4,
   "metadata": {},
   "outputs": [
    {
     "name": "stdout",
     "output_type": "stream",
     "text": [
      "8059\n"
     ]
    }
   ],
   "source": [
    "word2idx = vectorizer.vocabulary_\n",
    "idx2word = dict(zip(word2idx.values(), word2idx.keys()))\n",
    "vocab_size = len(idx2word)\n",
    "\n",
    "print(vocab_size)"
   ]
  },
  {
   "cell_type": "code",
   "execution_count": 5,
   "metadata": {},
   "outputs": [
    {
     "name": "stdout",
     "output_type": "stream",
     "text": [
      "Shape of X : (37108, 1)\n",
      "Shape of Y : (37108, 4)\n"
     ]
    }
   ],
   "source": [
    "#Run the program\n",
    "import numpy as np\n",
    "from sklearn.feature_extraction.text import CountVectorizer\n",
    "from nltk.tokenize.regexp import RegexpTokenizer\n",
    "\n",
    "def sentenceToData(tokens,WINDOW_SIZE):\n",
    "    window = np.concatenate((np.arange(-WINDOW_SIZE,0),np.arange(1,WINDOW_SIZE+1)))\n",
    "    X,Y=([],[])\n",
    "    for word_index, word in enumerate(tokens) :\n",
    "        if ((word_index - WINDOW_SIZE >= 0) and (word_index + WINDOW_SIZE <= len(tokens) - 1)) :\n",
    "            X.append(word2idx[word])\n",
    "            Y.append([word2idx[tokens[word_index-i]] for i in window])\n",
    "    return X, Y\n",
    "\n",
    "WINDOW_SIZE = 5\n",
    "\n",
    "X, Y = ([], [])\n",
    "\n",
    "X1, Y1 = sentenceToData(word_list, WINDOW_SIZE//2)\n",
    "X.extend(X1)\n",
    "Y.extend(Y1)\n",
    "    \n",
    "X = np.array(X).astype(int).reshape([-1,1])\n",
    "y = np.array(Y).astype(int)\n",
    "print('Shape of X :', X.shape)\n",
    "print('Shape of Y :', y.shape)"
   ]
  },
  {
   "cell_type": "code",
   "execution_count": 6,
   "metadata": {},
   "outputs": [],
   "source": [
    "class Word2vec(tf.keras.Model):\n",
    "    def __init__(self, N_DIM):\n",
    "        super(Word2vec, self).__init__()\n",
    "        self.W1 = tf.Variable(tf.random.uniform([vocab_size, N_DIM], -1.0, 1.0))\n",
    "        self.W2 = tf.Variable(tf.random.uniform([N_DIM, vocab_size], -1.0, 1.0))\n",
    "    def __call__(self, X, training=True):\n",
    "        X = tf.one_hot(X, depth=vocab_size, axis=-1)\n",
    "        X = tf.squeeze(X, axis=1)\n",
    "        h = tf.linalg.matmul(X, self.W1)\n",
    "        u = tf.linalg.matmul(h, self.W2)\n",
    "        return u\n",
    "    "
   ]
  },
  {
   "cell_type": "code",
   "execution_count": 7,
   "metadata": {},
   "outputs": [],
   "source": [
    "batch_size = 64\n",
    "def loss(y_true, y_pred):\n",
    "    y_true = tf.cast(y_true, dtype=tf.int32)\n",
    "    y_true = tf.one_hot(y_true, depth=vocab_size)\n",
    "    return -tf.tensordot(y_pred, tf.reduce_sum(y_true, axis=[1]),2)/batch_size + \\\n",
    "                tf.reduce_sum(4*tf.math.log(tf.reduce_sum(tf.exp(y_pred), axis=[1])))/batch_size"
   ]
  },
  {
   "cell_type": "code",
   "execution_count": 15,
   "metadata": {},
   "outputs": [],
   "source": [
    "def SaveFitHistory(history, hist_csv_file):\n",
    "    hist_df = pd.DataFrame(history.history) \n",
    "    with open(hist_csv_file+\".csv\", mode='w') as f:\n",
    "        hist_df.to_csv(f)\n",
    "def PlotFitHistory(hist_csv_file):\n",
    "    df_hist = pd.read_csv(hist_csv_file+\".csv\") \n",
    "    plt.plot(df_hist['loss'], label=hist_csv_file)\n",
    "    plt.xlabel('epoch')\n",
    "    plt.ylabel('loss')\n",
    "    #plt.xlim(0,9)\n",
    "    #plt.ylim(0,1.4)\n",
    "    plt.title('Courble de descente de gradient par epoch')\n",
    "    #plt.legend()\n",
    "    plt.show()\n",
    "def PlotFitHistories(hist_csv_files):\n",
    "    fig = plt.figure(figsize=(14,7))\n",
    "    xmax = 0\n",
    "    for hist_csv_file in hist_csv_files:\n",
    "        df_hist = pd.read_csv(hist_csv_file+\".csv\")\n",
    "        plt.plot(df_hist['loss'], label=hist_csv_file)\n",
    "        if len(df_hist) > xmax:\n",
    "            xmax = len(df_hist)\n",
    "    plt.xlabel('epoch')\n",
    "    plt.ylabel('loss')\n",
    "    plt.xlim(0,xmax)\n",
    "    plt.title('Courble de descente de gradient par epoch')\n",
    "    plt.legend()\n",
    "    plt.show()"
   ]
  },
  {
   "cell_type": "code",
   "execution_count": 9,
   "metadata": {},
   "outputs": [],
   "source": [
    "word2vec = Word2vec(100)"
   ]
  },
  {
   "cell_type": "code",
   "execution_count": 10,
   "metadata": {},
   "outputs": [
    {
     "name": "stdout",
     "output_type": "stream",
     "text": [
      "Epoch 1/20\n",
      "580/580 [==============================] - 14s 24ms/step - loss: 39.0831\n",
      "Epoch 2/20\n",
      "580/580 [==============================] - 16s 27ms/step - loss: 28.0009\n",
      "Epoch 3/20\n",
      "580/580 [==============================] - 15s 27ms/step - loss: 24.6486\n",
      "Epoch 4/20\n",
      "580/580 [==============================] - 18s 31ms/step - loss: 24.0661\n",
      "Epoch 5/20\n",
      "580/580 [==============================] - 17s 30ms/step - loss: 24.2421\n",
      "Epoch 6/20\n",
      "580/580 [==============================] - 16s 27ms/step - loss: 23.9158\n",
      "Epoch 7/20\n",
      "580/580 [==============================] - 15s 27ms/step - loss: 23.4087\n",
      "Epoch 8/20\n",
      "580/580 [==============================] - 16s 28ms/step - loss: 23.0894\n",
      "Epoch 9/20\n",
      "580/580 [==============================] - 16s 28ms/step - loss: 22.8688\n",
      "Epoch 10/20\n",
      "580/580 [==============================] - 16s 27ms/step - loss: 22.7253\n",
      "Epoch 11/20\n",
      "580/580 [==============================] - 15s 27ms/step - loss: 22.6194\n",
      "Epoch 12/20\n",
      "580/580 [==============================] - 16s 27ms/step - loss: 22.5679\n",
      "Epoch 13/20\n",
      "580/580 [==============================] - 16s 27ms/step - loss: 22.5294\n",
      "Epoch 14/20\n",
      "580/580 [==============================] - 16s 27ms/step - loss: 22.4565\n",
      "Epoch 15/20\n",
      "580/580 [==============================] - 15s 27ms/step - loss: 22.3850\n",
      "Epoch 16/20\n",
      "580/580 [==============================] - 17s 29ms/step - loss: 22.3499\n",
      "Epoch 17/20\n",
      "580/580 [==============================] - 17s 29ms/step - loss: 22.2912\n",
      "Epoch 18/20\n",
      "580/580 [==============================] - 17s 29ms/step - loss: 22.2435\n",
      "Epoch 19/20\n",
      "580/580 [==============================] - 18s 32ms/step - loss: 22.2160\n",
      "Epoch 20/20\n",
      "580/580 [==============================] - 20s 34ms/step - loss: 22.1933\n"
     ]
    },
    {
     "data": {
      "text/html": [
       "<div>\n",
       "<style scoped>\n",
       "    .dataframe tbody tr th:only-of-type {\n",
       "        vertical-align: middle;\n",
       "    }\n",
       "\n",
       "    .dataframe tbody tr th {\n",
       "        vertical-align: top;\n",
       "    }\n",
       "\n",
       "    .dataframe thead th {\n",
       "        text-align: right;\n",
       "    }\n",
       "</style>\n",
       "<table border=\"1\" class=\"dataframe\">\n",
       "  <thead>\n",
       "    <tr style=\"text-align: right;\">\n",
       "      <th></th>\n",
       "      <th>loss</th>\n",
       "    </tr>\n",
       "  </thead>\n",
       "  <tbody>\n",
       "    <tr>\n",
       "      <th>0</th>\n",
       "      <td>39.083111</td>\n",
       "    </tr>\n",
       "    <tr>\n",
       "      <th>1</th>\n",
       "      <td>28.000948</td>\n",
       "    </tr>\n",
       "    <tr>\n",
       "      <th>2</th>\n",
       "      <td>24.648596</td>\n",
       "    </tr>\n",
       "    <tr>\n",
       "      <th>3</th>\n",
       "      <td>24.066116</td>\n",
       "    </tr>\n",
       "    <tr>\n",
       "      <th>4</th>\n",
       "      <td>24.242102</td>\n",
       "    </tr>\n",
       "    <tr>\n",
       "      <th>5</th>\n",
       "      <td>23.915846</td>\n",
       "    </tr>\n",
       "    <tr>\n",
       "      <th>6</th>\n",
       "      <td>23.408743</td>\n",
       "    </tr>\n",
       "    <tr>\n",
       "      <th>7</th>\n",
       "      <td>23.089397</td>\n",
       "    </tr>\n",
       "    <tr>\n",
       "      <th>8</th>\n",
       "      <td>22.868807</td>\n",
       "    </tr>\n",
       "    <tr>\n",
       "      <th>9</th>\n",
       "      <td>22.725330</td>\n",
       "    </tr>\n",
       "    <tr>\n",
       "      <th>10</th>\n",
       "      <td>22.619379</td>\n",
       "    </tr>\n",
       "    <tr>\n",
       "      <th>11</th>\n",
       "      <td>22.567907</td>\n",
       "    </tr>\n",
       "    <tr>\n",
       "      <th>12</th>\n",
       "      <td>22.529354</td>\n",
       "    </tr>\n",
       "    <tr>\n",
       "      <th>13</th>\n",
       "      <td>22.456476</td>\n",
       "    </tr>\n",
       "    <tr>\n",
       "      <th>14</th>\n",
       "      <td>22.384983</td>\n",
       "    </tr>\n",
       "    <tr>\n",
       "      <th>15</th>\n",
       "      <td>22.349897</td>\n",
       "    </tr>\n",
       "    <tr>\n",
       "      <th>16</th>\n",
       "      <td>22.291248</td>\n",
       "    </tr>\n",
       "    <tr>\n",
       "      <th>17</th>\n",
       "      <td>22.243517</td>\n",
       "    </tr>\n",
       "    <tr>\n",
       "      <th>18</th>\n",
       "      <td>22.216045</td>\n",
       "    </tr>\n",
       "    <tr>\n",
       "      <th>19</th>\n",
       "      <td>22.193340</td>\n",
       "    </tr>\n",
       "  </tbody>\n",
       "</table>\n",
       "</div>"
      ],
      "text/plain": [
       "         loss\n",
       "0   39.083111\n",
       "1   28.000948\n",
       "2   24.648596\n",
       "3   24.066116\n",
       "4   24.242102\n",
       "5   23.915846\n",
       "6   23.408743\n",
       "7   23.089397\n",
       "8   22.868807\n",
       "9   22.725330\n",
       "10  22.619379\n",
       "11  22.567907\n",
       "12  22.529354\n",
       "13  22.456476\n",
       "14  22.384983\n",
       "15  22.349897\n",
       "16  22.291248\n",
       "17  22.243517\n",
       "18  22.216045\n",
       "19  22.193340"
      ]
     },
     "execution_count": 10,
     "metadata": {},
     "output_type": "execute_result"
    }
   ],
   "source": [
    "optimizer = tf.keras.optimizers.Adam(learning_rate=0.01)\n",
    "word2vec.compile(optimizer=optimizer, loss=loss)\n",
    "history_training = word2vec.fit(X, y, batch_size=batch_size, epochs=20)\n",
    "word2vec.save_weights('word2vec_lr1e-2_epochs20')\n",
    "SaveFitHistory(history_training, 'word2vec_lr1e-2_epochs20')"
   ]
  },
  {
   "cell_type": "code",
   "execution_count": 12,
   "metadata": {},
   "outputs": [
    {
     "name": "stdout",
     "output_type": "stream",
     "text": [
      "Epoch 1/20\n",
      "580/580 [==============================] - 16s 28ms/step - loss: 20.6387\n",
      "Epoch 2/20\n",
      "580/580 [==============================] - 17s 30ms/step - loss: 19.8387\n",
      "Epoch 3/20\n",
      "580/580 [==============================] - 16s 28ms/step - loss: 19.3109\n",
      "Epoch 4/20\n",
      "580/580 [==============================] - 15s 25ms/step - loss: 18.9272\n",
      "Epoch 5/20\n",
      "580/580 [==============================] - 15s 26ms/step - loss: 18.6361\n",
      "Epoch 6/20\n",
      "580/580 [==============================] - 17s 29ms/step - loss: 18.4079\n",
      "Epoch 7/20\n",
      "580/580 [==============================] - 17s 29ms/step - loss: 18.2251\n",
      "Epoch 8/20\n",
      "580/580 [==============================] - 15s 26ms/step - loss: 18.0766\n",
      "Epoch 9/20\n",
      "580/580 [==============================] - 15s 26ms/step - loss: 17.9614\n",
      "Epoch 10/20\n",
      "580/580 [==============================] - 16s 28ms/step - loss: 17.8697\n",
      "Epoch 11/20\n",
      "580/580 [==============================] - 18s 32ms/step - loss: 17.8015\n",
      "Epoch 12/20\n",
      "580/580 [==============================] - 18s 31ms/step - loss: 17.7498\n",
      "Epoch 13/20\n",
      "580/580 [==============================] - 18s 31ms/step - loss: 17.7121\n",
      "Epoch 14/20\n",
      "580/580 [==============================] - 16s 27ms/step - loss: 17.6819\n",
      "Epoch 15/20\n",
      "580/580 [==============================] - 21s 36ms/step - loss: 17.6583\n",
      "Epoch 16/20\n",
      "580/580 [==============================] - 18s 32ms/step - loss: 17.6374\n",
      "Epoch 17/20\n",
      "580/580 [==============================] - 18s 32ms/step - loss: 17.6188\n",
      "Epoch 18/20\n",
      "580/580 [==============================] - 16s 27ms/step - loss: 17.6023\n",
      "Epoch 19/20\n",
      "580/580 [==============================] - 17s 29ms/step - loss: 17.5874\n",
      "Epoch 20/20\n",
      "580/580 [==============================] - 22s 37ms/step - loss: 17.5719\n"
     ]
    }
   ],
   "source": [
    "optimizer = tf.keras.optimizers.Adam(learning_rate=0.001)\n",
    "word2vec.compile(optimizer=optimizer, loss=loss)\n",
    "history_training = word2vec.fit(X, y, batch_size=batch_size, epochs=20)\n",
    "word2vec.save_weights('word2vec_lr1e-3_epochs20')\n",
    "SaveFitHistory(history_training, 'word2vec_lr1e-3_epochs20')"
   ]
  },
  {
   "cell_type": "code",
   "execution_count": 17,
   "metadata": {},
   "outputs": [
    {
     "name": "stdout",
     "output_type": "stream",
     "text": [
      "Epoch 1/200\n",
      "580/580 [==============================] - 15s 27ms/step - loss: 17.6782\n",
      "Epoch 2/200\n",
      "580/580 [==============================] - 14s 25ms/step - loss: 17.5750\n",
      "Epoch 3/200\n",
      "580/580 [==============================] - 14s 25ms/step - loss: 17.5598\n",
      "Epoch 4/200\n",
      "580/580 [==============================] - 15s 25ms/step - loss: 17.5500\n",
      "Epoch 5/200\n",
      "580/580 [==============================] - ETA: 0s - loss: 17.53 - 14s 25ms/step - loss: 17.5383\n",
      "Epoch 6/200\n",
      "580/580 [==============================] - 15s 26ms/step - loss: 17.5261\n",
      "Epoch 7/200\n",
      "580/580 [==============================] - 16s 27ms/step - loss: 17.5165\n",
      "Epoch 8/200\n",
      "580/580 [==============================] - 15s 26ms/step - loss: 17.5082\n",
      "Epoch 9/200\n",
      "580/580 [==============================] - 16s 27ms/step - loss: 17.4983\n",
      "Epoch 10/200\n",
      "580/580 [==============================] - 15s 25ms/step - loss: 17.4907\n",
      "Epoch 11/200\n",
      "580/580 [==============================] - 17s 29ms/step - loss: 17.4837\n",
      "Epoch 12/200\n",
      "580/580 [==============================] - 14s 25ms/step - loss: 17.4759\n",
      "Epoch 13/200\n",
      "580/580 [==============================] - 17s 28ms/step - loss: 17.4695\n",
      "Epoch 14/200\n",
      "580/580 [==============================] - 15s 26ms/step - loss: 17.4628\n",
      "Epoch 15/200\n",
      "580/580 [==============================] - 17s 28ms/step - loss: 17.4570\n",
      "Epoch 16/200\n",
      "580/580 [==============================] - 18s 31ms/step - loss: 17.4514\n",
      "Epoch 17/200\n",
      "580/580 [==============================] - 17s 29ms/step - loss: 17.4446\n",
      "Epoch 18/200\n",
      "580/580 [==============================] - 17s 29ms/step - loss: 17.4399\n",
      "Epoch 19/200\n",
      "580/580 [==============================] - 19s 32ms/step - loss: 17.4352\n",
      "Epoch 20/200\n",
      "580/580 [==============================] - 17s 30ms/step - loss: 17.4301\n",
      "Epoch 21/200\n",
      "580/580 [==============================] - 17s 30ms/step - loss: 17.4257\n",
      "Epoch 22/200\n",
      "580/580 [==============================] - 19s 33ms/step - loss: 17.4204\n",
      "Epoch 23/200\n",
      "580/580 [==============================] - 19s 33ms/step - loss: 17.4162\n",
      "Epoch 24/200\n",
      "580/580 [==============================] - 18s 31ms/step - loss: 17.4118\n",
      "Epoch 25/200\n",
      "580/580 [==============================] - 20s 34ms/step - loss: 17.4093\n",
      "Epoch 26/200\n",
      "580/580 [==============================] - 18s 32ms/step - loss: 17.4041\n",
      "Epoch 27/200\n",
      "580/580 [==============================] - 17s 30ms/step - loss: 17.4004\n",
      "Epoch 28/200\n",
      "580/580 [==============================] - 18s 32ms/step - loss: 17.3971\n",
      "Epoch 29/200\n",
      "580/580 [==============================] - 18s 31ms/step - loss: 17.3937\n",
      "Epoch 30/200\n",
      "580/580 [==============================] - 15s 27ms/step - loss: 17.3912\n",
      "Epoch 31/200\n",
      "580/580 [==============================] - 16s 28ms/step - loss: 17.3862\n",
      "Epoch 32/200\n",
      "580/580 [==============================] - 15s 25ms/step - loss: 17.3839\n",
      "Epoch 33/200\n",
      "580/580 [==============================] - 15s 25ms/step - loss: 17.3801\n",
      "Epoch 34/200\n",
      "580/580 [==============================] - 17s 29ms/step - loss: 17.3772\n",
      "Epoch 35/200\n",
      "580/580 [==============================] - 15s 26ms/step - loss: 17.3751\n",
      "Epoch 36/200\n",
      "580/580 [==============================] - 15s 26ms/step - loss: 17.3721\n",
      "Epoch 37/200\n",
      "580/580 [==============================] - 20s 34ms/step - loss: 17.3690\n",
      "Epoch 38/200\n",
      "580/580 [==============================] - 17s 29ms/step - loss: 17.3674\n",
      "Epoch 39/200\n",
      "580/580 [==============================] - 15s 26ms/step - loss: 17.3640\n",
      "Epoch 40/200\n",
      "580/580 [==============================] - 19s 33ms/step - loss: 17.3624\n",
      "Epoch 41/200\n",
      "580/580 [==============================] - 20s 34ms/step - loss: 17.3593\n",
      "Epoch 42/200\n",
      "580/580 [==============================] - 18s 32ms/step - loss: 17.3555\n",
      "Epoch 43/200\n",
      "580/580 [==============================] - 18s 31ms/step - loss: 17.3552\n",
      "Epoch 44/200\n",
      "580/580 [==============================] - 18s 31ms/step - loss: 17.3526\n",
      "Epoch 45/200\n",
      "580/580 [==============================] - 19s 33ms/step - loss: 17.3500\n",
      "Epoch 46/200\n",
      "580/580 [==============================] - 20s 34ms/step - loss: 17.3480\n",
      "Epoch 47/200\n",
      "580/580 [==============================] - 20s 34ms/step - loss: 17.3460\n",
      "Epoch 48/200\n",
      "580/580 [==============================] - 19s 33ms/step - loss: 17.3446\n",
      "Epoch 49/200\n",
      "580/580 [==============================] - 18s 31ms/step - loss: 17.3423\n",
      "Epoch 50/200\n",
      "580/580 [==============================] - 17s 30ms/step - loss: 17.3398\n",
      "Epoch 51/200\n",
      "580/580 [==============================] - 17s 29ms/step - loss: 17.3374\n",
      "Epoch 52/200\n",
      "580/580 [==============================] - 17s 29ms/step - loss: 17.33630s - loss: - ETA: 0s - loss:\n",
      "Epoch 53/200\n",
      "580/580 [==============================] - 17s 30ms/step - loss: 17.3346\n",
      "Epoch 54/200\n",
      "580/580 [==============================] - 18s 32ms/step - loss: 17.3333\n",
      "Epoch 55/200\n",
      "580/580 [==============================] - 17s 29ms/step - loss: 17.3302\n",
      "Epoch 56/200\n",
      "580/580 [==============================] - 16s 27ms/step - loss: 17.3285\n",
      "Epoch 57/200\n",
      "580/580 [==============================] - 16s 28ms/step - loss: 17.3273\n",
      "Epoch 58/200\n",
      "580/580 [==============================] - 16s 28ms/step - loss: 17.3260\n",
      "Epoch 59/200\n",
      "580/580 [==============================] - 18s 32ms/step - loss: 17.3240\n",
      "Epoch 60/200\n",
      "580/580 [==============================] - 17s 30ms/step - loss: 17.3226\n",
      "Epoch 61/200\n",
      "580/580 [==============================] - 17s 29ms/step - loss: 17.3218\n",
      "Epoch 62/200\n",
      "580/580 [==============================] - 17s 29ms/step - loss: 17.3200\n",
      "Epoch 63/200\n",
      "580/580 [==============================] - 18s 30ms/step - loss: 17.3181\n",
      "Epoch 64/200\n",
      "580/580 [==============================] - 20s 34ms/step - loss: 17.3165\n",
      "Epoch 65/200\n",
      "580/580 [==============================] - 23s 39ms/step - loss: 17.3169\n",
      "Epoch 66/200\n",
      "580/580 [==============================] - 22s 38ms/step - loss: 17.3143\n",
      "Epoch 67/200\n",
      "580/580 [==============================] - 25s 43ms/step - loss: 17.3125\n",
      "Epoch 68/200\n",
      "580/580 [==============================] - 26s 45ms/step - loss: 17.3113\n",
      "Epoch 69/200\n",
      "580/580 [==============================] - 21s 36ms/step - loss: 17.3105\n",
      "Epoch 70/200\n",
      "580/580 [==============================] - 22s 38ms/step - loss: 17.3092\n",
      "Epoch 71/200\n",
      "580/580 [==============================] - 23s 39ms/step - loss: 17.3079\n",
      "Epoch 72/200\n",
      "580/580 [==============================] - 24s 41ms/step - loss: 17.3070\n",
      "Epoch 73/200\n",
      "580/580 [==============================] - 25s 43ms/step - loss: 17.3052\n",
      "Epoch 74/200\n",
      "580/580 [==============================] - 24s 41ms/step - loss: 17.3055\n",
      "Epoch 75/200\n",
      "580/580 [==============================] - 21s 36ms/step - loss: 17.3049\n",
      "Epoch 76/200\n",
      "580/580 [==============================] - 24s 41ms/step - loss: 17.3031\n",
      "Epoch 77/200\n",
      "580/580 [==============================] - 22s 37ms/step - loss: 17.3013\n",
      "Epoch 78/200\n",
      "580/580 [==============================] - 30s 52ms/step - loss: 17.2993\n",
      "Epoch 79/200\n",
      "580/580 [==============================] - 26s 45ms/step - loss: 17.2994\n",
      "Epoch 80/200\n",
      "580/580 [==============================] - 26s 46ms/step - loss: 17.2979\n",
      "Epoch 81/200\n",
      "580/580 [==============================] - 25s 43ms/step - loss: 17.2976\n",
      "Epoch 82/200\n",
      "580/580 [==============================] - 26s 44ms/step - loss: 17.2959\n",
      "Epoch 83/200\n",
      "580/580 [==============================] - 24s 42ms/step - loss: 17.2959\n",
      "Epoch 84/200\n",
      "580/580 [==============================] - 24s 41ms/step - loss: 17.2943\n",
      "Epoch 85/200\n",
      "580/580 [==============================] - 21s 35ms/step - loss: 17.2931\n",
      "Epoch 86/200\n",
      "580/580 [==============================] - 19s 33ms/step - loss: 17.2924\n",
      "Epoch 87/200\n",
      "580/580 [==============================] - 18s 32ms/step - loss: 17.2918\n",
      "Epoch 88/200\n",
      "580/580 [==============================] - 19s 32ms/step - loss: 17.2898\n",
      "Epoch 89/200\n",
      "580/580 [==============================] - 18s 30ms/step - loss: 17.2901\n",
      "Epoch 90/200\n",
      "580/580 [==============================] - 18s 31ms/step - loss: 17.2895\n",
      "Epoch 91/200\n",
      "580/580 [==============================] - 17s 30ms/step - loss: 17.28700s - l\n",
      "Epoch 92/200\n",
      "580/580 [==============================] - 17s 29ms/step - loss: 17.2883\n",
      "Epoch 93/200\n",
      "580/580 [==============================] - 17s 30ms/step - loss: 17.2856\n",
      "Epoch 94/200\n",
      "580/580 [==============================] - 17s 30ms/step - loss: 17.2844\n",
      "Epoch 95/200\n"
     ]
    },
    {
     "name": "stdout",
     "output_type": "stream",
     "text": [
      "580/580 [==============================] - 18s 32ms/step - loss: 17.2850\n",
      "Epoch 96/200\n",
      "580/580 [==============================] - 17s 30ms/step - loss: 17.2842\n",
      "Epoch 97/200\n",
      "580/580 [==============================] - 17s 29ms/step - loss: 17.2836\n",
      "Epoch 98/200\n",
      "580/580 [==============================] - 17s 29ms/step - loss: 17.2824\n",
      "Epoch 99/200\n",
      "580/580 [==============================] - 17s 29ms/step - loss: 17.2819\n",
      "Epoch 100/200\n",
      "580/580 [==============================] - 16s 28ms/step - loss: 17.2806\n",
      "Epoch 101/200\n",
      "580/580 [==============================] - 16s 28ms/step - loss: 17.2804\n",
      "Epoch 102/200\n",
      "580/580 [==============================] - 16s 28ms/step - loss: 17.2791\n",
      "Epoch 103/200\n",
      "580/580 [==============================] - 16s 28ms/step - loss: 17.2800\n",
      "Epoch 104/200\n",
      "580/580 [==============================] - 17s 28ms/step - loss: 17.2786\n",
      "Epoch 105/200\n",
      "580/580 [==============================] - 17s 29ms/step - loss: 17.2769\n",
      "Epoch 106/200\n",
      "580/580 [==============================] - 16s 28ms/step - loss: 17.2770\n",
      "Epoch 107/200\n",
      "580/580 [==============================] - ETA: 0s - loss: 17.27 - 16s 27ms/step - loss: 17.2760\n",
      "Epoch 108/200\n",
      "580/580 [==============================] - 16s 27ms/step - loss: 17.2762\n",
      "Epoch 109/200\n",
      "580/580 [==============================] - 16s 27ms/step - loss: 17.2750\n",
      "Epoch 110/200\n",
      "580/580 [==============================] - 16s 27ms/step - loss: 17.2751\n",
      "Epoch 111/200\n",
      "580/580 [==============================] - 15s 26ms/step - loss: 17.2747\n",
      "Epoch 112/200\n",
      "580/580 [==============================] - 15s 26ms/step - loss: 17.2738\n",
      "Epoch 113/200\n",
      "580/580 [==============================] - 16s 27ms/step - loss: 17.2731\n",
      "Epoch 114/200\n",
      "580/580 [==============================] - 15s 26ms/step - loss: 17.2711\n",
      "Epoch 115/200\n",
      "580/580 [==============================] - 15s 26ms/step - loss: 17.2716\n",
      "Epoch 116/200\n",
      "580/580 [==============================] - 15s 26ms/step - loss: 17.2709\n",
      "Epoch 117/200\n",
      "580/580 [==============================] - 15s 26ms/step - loss: 17.2711\n",
      "Epoch 118/200\n",
      "580/580 [==============================] - 15s 27ms/step - loss: 17.2692\n",
      "Epoch 119/200\n",
      "580/580 [==============================] - 15s 26ms/step - loss: 17.2702\n",
      "Epoch 120/200\n",
      "580/580 [==============================] - 15s 25ms/step - loss: 17.2692\n",
      "Epoch 121/200\n",
      "580/580 [==============================] - 15s 25ms/step - loss: 17.2680\n",
      "Epoch 122/200\n",
      "580/580 [==============================] - 15s 25ms/step - loss: 17.2679\n",
      "Epoch 123/200\n",
      "580/580 [==============================] - 15s 26ms/step - loss: 17.2675\n",
      "Epoch 124/200\n",
      "580/580 [==============================] - 15s 25ms/step - loss: 17.2669\n",
      "Epoch 125/200\n",
      "580/580 [==============================] - 15s 25ms/step - loss: 17.2664\n",
      "Epoch 126/200\n",
      "580/580 [==============================] - 14s 25ms/step - loss: 17.2664\n",
      "Epoch 127/200\n",
      "580/580 [==============================] - 14s 25ms/step - loss: 17.2655\n",
      "Epoch 128/200\n",
      "580/580 [==============================] - 14s 25ms/step - loss: 17.2654\n",
      "Epoch 129/200\n",
      "580/580 [==============================] - 14s 25ms/step - loss: 17.2645\n",
      "Epoch 130/200\n",
      "580/580 [==============================] - 14s 25ms/step - loss: 17.2638\n",
      "Epoch 131/200\n",
      "580/580 [==============================] - 14s 25ms/step - loss: 17.2636\n",
      "Epoch 132/200\n",
      "580/580 [==============================] - 15s 25ms/step - loss: 17.2629\n",
      "Epoch 133/200\n",
      "580/580 [==============================] - 14s 25ms/step - loss: 17.2625\n",
      "Epoch 134/200\n",
      "580/580 [==============================] - 15s 25ms/step - loss: 17.2631\n",
      "Epoch 135/200\n",
      "580/580 [==============================] - 14s 25ms/step - loss: 17.2624\n",
      "Epoch 136/200\n",
      "580/580 [==============================] - 15s 25ms/step - loss: 17.2617\n",
      "Epoch 137/200\n",
      "580/580 [==============================] - 14s 25ms/step - loss: 17.2612\n",
      "Epoch 138/200\n",
      "580/580 [==============================] - 15s 26ms/step - loss: 17.2618\n",
      "Epoch 139/200\n",
      "580/580 [==============================] - 14s 25ms/step - loss: 17.2598\n",
      "Epoch 140/200\n",
      "580/580 [==============================] - 14s 25ms/step - loss: 17.2592\n",
      "Epoch 141/200\n",
      "580/580 [==============================] - 15s 25ms/step - loss: 17.2595\n",
      "Epoch 142/200\n",
      "580/580 [==============================] - 14s 25ms/step - loss: 17.2588\n",
      "Epoch 143/200\n",
      "580/580 [==============================] - 14s 24ms/step - loss: 17.2592\n",
      "Epoch 144/200\n",
      "580/580 [==============================] - 15s 25ms/step - loss: 17.2584\n",
      "Epoch 145/200\n",
      "580/580 [==============================] - 14s 25ms/step - loss: 17.2574\n",
      "Epoch 146/200\n",
      "580/580 [==============================] - 14s 25ms/step - loss: 17.2582\n",
      "Epoch 147/200\n",
      "580/580 [==============================] - 14s 25ms/step - loss: 17.2572\n",
      "Epoch 148/200\n",
      "580/580 [==============================] - 14s 25ms/step - loss: 17.2569\n",
      "Epoch 149/200\n",
      "580/580 [==============================] - 14s 25ms/step - loss: 17.2561\n",
      "Epoch 150/200\n",
      "580/580 [==============================] - 14s 25ms/step - loss: 17.2563\n",
      "Epoch 151/200\n",
      "580/580 [==============================] - 15s 25ms/step - loss: 17.2568\n",
      "Epoch 152/200\n",
      "580/580 [==============================] - 15s 25ms/step - loss: 17.2552\n",
      "Epoch 153/200\n",
      "580/580 [==============================] - 14s 25ms/step - loss: 17.2550\n",
      "Epoch 154/200\n",
      "580/580 [==============================] - 14s 25ms/step - loss: 17.2553\n",
      "Epoch 155/200\n",
      "580/580 [==============================] - 15s 25ms/step - loss: 17.2542\n",
      "Epoch 156/200\n",
      "580/580 [==============================] - 14s 25ms/step - loss: 17.2546\n",
      "Epoch 157/200\n",
      "580/580 [==============================] - 14s 25ms/step - loss: 17.2536\n",
      "Epoch 158/200\n",
      "580/580 [==============================] - 14s 25ms/step - loss: 17.2540\n",
      "Epoch 159/200\n",
      "580/580 [==============================] - 15s 25ms/step - loss: 17.2531\n",
      "Epoch 160/200\n",
      "580/580 [==============================] - 15s 25ms/step - loss: 17.2530\n",
      "Epoch 161/200\n",
      "580/580 [==============================] - 15s 25ms/step - loss: 17.2534\n",
      "Epoch 162/200\n",
      "580/580 [==============================] - 15s 25ms/step - loss: 17.2530\n",
      "Epoch 163/200\n",
      "580/580 [==============================] - 14s 25ms/step - loss: 17.2528\n",
      "Epoch 164/200\n",
      "580/580 [==============================] - 15s 25ms/step - loss: 17.2515\n",
      "Epoch 165/200\n",
      "580/580 [==============================] - 15s 25ms/step - loss: 17.2510\n",
      "Epoch 166/200\n",
      "580/580 [==============================] - 15s 25ms/step - loss: 17.2509\n",
      "Epoch 167/200\n",
      "580/580 [==============================] - 15s 25ms/step - loss: 17.2515\n",
      "Epoch 168/200\n",
      "580/580 [==============================] - 15s 26ms/step - loss: 17.2493\n",
      "Epoch 169/200\n",
      "580/580 [==============================] - 15s 26ms/step - loss: 17.2504\n",
      "Epoch 170/200\n",
      "580/580 [==============================] - 15s 26ms/step - loss: 17.2503\n",
      "Epoch 171/200\n",
      "580/580 [==============================] - 15s 26ms/step - loss: 17.2509\n",
      "Epoch 172/200\n",
      "580/580 [==============================] - 15s 26ms/step - loss: 17.2504\n",
      "Epoch 173/200\n",
      "580/580 [==============================] - 15s 26ms/step - loss: 17.2484\n",
      "Epoch 174/200\n",
      "580/580 [==============================] - 15s 26ms/step - loss: 17.2488\n",
      "Epoch 175/200\n",
      "580/580 [==============================] - 15s 26ms/step - loss: 17.2493\n",
      "Epoch 176/200\n",
      "580/580 [==============================] - 15s 26ms/step - loss: 17.2480\n",
      "Epoch 177/200\n",
      "580/580 [==============================] - 15s 26ms/step - loss: 17.2490\n",
      "Epoch 178/200\n",
      "580/580 [==============================] - 15s 26ms/step - loss: 17.2478\n",
      "Epoch 179/200\n",
      "580/580 [==============================] - 16s 27ms/step - loss: 17.2484\n",
      "Epoch 180/200\n",
      "580/580 [==============================] - 16s 27ms/step - loss: 17.2474\n",
      "Epoch 181/200\n",
      "580/580 [==============================] - 15s 26ms/step - loss: 17.2477\n",
      "Epoch 182/200\n",
      "580/580 [==============================] - 15s 26ms/step - loss: 17.24790s -\n",
      "Epoch 183/200\n",
      "580/580 [==============================] - 15s 27ms/step - loss: 17.2479\n",
      "Epoch 184/200\n",
      "580/580 [==============================] - 15s 27ms/step - loss: 17.2475\n",
      "Epoch 185/200\n",
      "580/580 [==============================] - 15s 27ms/step - loss: 17.2472\n",
      "Epoch 186/200\n",
      "580/580 [==============================] - 15s 27ms/step - loss: 17.2457\n",
      "Epoch 187/200\n",
      "580/580 [==============================] - 15s 26ms/step - loss: 17.2467\n",
      "Epoch 188/200\n",
      "580/580 [==============================] - 15s 27ms/step - loss: 17.2455\n",
      "Epoch 189/200\n"
     ]
    },
    {
     "name": "stdout",
     "output_type": "stream",
     "text": [
      "580/580 [==============================] - 16s 27ms/step - loss: 17.2459\n",
      "Epoch 190/200\n",
      "580/580 [==============================] - 16s 27ms/step - loss: 17.2454\n",
      "Epoch 191/200\n",
      "580/580 [==============================] - 16s 27ms/step - loss: 17.2451\n",
      "Epoch 192/200\n",
      "580/580 [==============================] - 16s 27ms/step - loss: 17.2449\n",
      "Epoch 193/200\n",
      "580/580 [==============================] - 16s 27ms/step - loss: 17.2453\n",
      "Epoch 194/200\n",
      "580/580 [==============================] - 17s 29ms/step - loss: 17.2450\n",
      "Epoch 195/200\n",
      "580/580 [==============================] - 17s 30ms/step - loss: 17.2449\n",
      "Epoch 196/200\n",
      "580/580 [==============================] - 17s 29ms/step - loss: 17.2448\n",
      "Epoch 197/200\n",
      "580/580 [==============================] - 17s 30ms/step - loss: 17.2441\n",
      "Epoch 198/200\n",
      "580/580 [==============================] - 17s 29ms/step - loss: 17.2443\n",
      "Epoch 199/200\n",
      "580/580 [==============================] - 16s 28ms/step - loss: 17.2437\n",
      "Epoch 200/200\n",
      "580/580 [==============================] - 21s 37ms/step - loss: 17.2433\n"
     ]
    }
   ],
   "source": [
    "optimizer = tf.keras.optimizers.Adam(learning_rate=0.001)\n",
    "word2vec.compile(optimizer=optimizer, loss=loss)\n",
    "history_training = word2vec.fit(X, y, batch_size=batch_size, epochs=200)\n",
    "word2vec.save_weights('word2vec_lr1e-3_epochs200')\n",
    "SaveFitHistory(history_training, 'word2vec_lr1e-3_epochs200')"
   ]
  },
  {
   "cell_type": "code",
   "execution_count": 19,
   "metadata": {},
   "outputs": [
    {
     "data": {
      "image/png": "[encoded data removed]",
      "text/plain": [
       "<Figure size 1008x504 with 1 Axes>"
      ]
     },
     "metadata": {
      "needs_background": "light"
     },
     "output_type": "display_data"
    }
   ],
   "source": [
    "PlotFitHistories(['word2vec_lr1e-2_epochs20', 'word2vec_lr1e-3_epochs20'])"
   ]
  },
  {
   "cell_type": "code",
   "execution_count": 20,
   "metadata": {},
   "outputs": [
    {
     "data": {
      "image/png": "[encoded data removed]",
      "text/plain": [
       "<Figure size 1008x504 with 1 Axes>"
      ]
     },
     "metadata": {
      "needs_background": "light"
     },
     "output_type": "display_data"
    }
   ],
   "source": [
    "PlotFitHistories(['word2vec_lr1e-2_epochs20', 'word2vec_lr1e-3_epochs20', 'word2vec_lr1e-3_epochs200'])"
   ]
  },
  {
   "cell_type": "markdown",
   "metadata": {},
   "source": [
    "Extraire la représentation matricielle "
   ]
  },
  {
   "cell_type": "code",
   "execution_count": 27,
   "metadata": {},
   "outputs": [],
   "source": [
    "from sklearn.preprocessing import Normalizer\n",
    "vectors = word2vec.W1.numpy()\n",
    "normalizer = Normalizer()\n",
    "vectors = normalizer.fit_transform(vectors, 'l2')"
   ]
  },
  {
   "cell_type": "code",
   "execution_count": 28,
   "metadata": {},
   "outputs": [],
   "source": [
    "## Run the program\n",
    "\n",
    "def dot_product(vec1, vec2):\n",
    "    return np.sum((vec1*vec2))\n",
    "\n",
    "def cosine_similarity(vec1, vec2):\n",
    "    return dot_product(vec1, vec2)/np.sqrt(dot_product(vec1, vec1)*dot_product(vec2, vec2))\n",
    "\n",
    "def find_closest(word_index, vectors, number_closest):\n",
    "    list1=[]\n",
    "    query_vector = vectors[word_index]\n",
    "    for index, vector in enumerate(vectors):\n",
    "        if not np.array_equal(vector, query_vector):\n",
    "            dist = cosine_similarity(vector, query_vector)\n",
    "            list1.append([dist,index])\n",
    "    return np.asarray(sorted(list1,reverse=True)[:number_closest])\n",
    "\n",
    "def compare(index_word1,index_word2,index_word3,vectors,number_closest):\n",
    "    list1=[]\n",
    "    query_vector = vectors[index_word1]-vectors[index_word2]+vectors[index_word3]\n",
    "    normalizer = Normalizer()\n",
    "    query_vector =  normalizer.fit_transform([query_vector], 'l2')\n",
    "    query_vector= query_vector[0]\n",
    "    for index, vector in enumerate(vectors):\n",
    "        if not np.array_equal(vector, query_vector):\n",
    "            dist = cosine_similarity(vector, query_vector)\n",
    "            list1.append([dist,index])\n",
    "    return np.asarray(sorted(list1,reverse=True)[:number_closest])\n",
    "\n",
    "def print_closest(word, number=10):\n",
    "    index_closest_words = find_closest(word2idx[word], vectors, number)\n",
    "    for index_word in index_closest_words :\n",
    "        print(idx2word[index_word[1]],\" -- \",index_word[0])"
   ]
  },
  {
   "cell_type": "code",
   "execution_count": null,
   "metadata": {},
   "outputs": [],
   "source": [
    "#for mot in [\"king\", \"france\", \"computer\", \"virus\", \"glass\"]:\n",
    "#    print(\"=== \", mot, \" ===\")\n",
    "#    print_closest(mot)\n",
    "#    print(\"\\n\")"
   ]
  },
  {
   "cell_type": "code",
   "execution_count": 29,
   "metadata": {},
   "outputs": [
    {
     "name": "stdout",
     "output_type": "stream",
     "text": [
      "otod  --  0.4157867729663849\n",
      "tchoep  --  0.41243892908096313\n",
      "kchydy  --  0.37402254343032837\n",
      "tydlo  --  0.3656289279460907\n",
      "dls  --  0.35711389780044556\n",
      "lochey  --  0.35703206062316895\n",
      "cphchar  --  0.3523392379283905\n",
      "ypchol  --  0.3508716821670532\n",
      "ykchon  --  0.3487931191921234\n",
      "ykeeodain  --  0.3454188406467438\n"
     ]
    }
   ],
   "source": [
    "print_closest('daiin')"
   ]
  },
  {
   "cell_type": "code",
   "execution_count": 42,
   "metadata": {},
   "outputs": [
    {
     "data": {
      "image/png": "[encoded data removed]",
      "text/plain": [
       "<Figure size 432x288 with 1 Axes>"
      ]
     },
     "metadata": {
      "needs_background": "light"
     },
     "output_type": "display_data"
    }
   ],
   "source": [
    "points = compare(word2idx['daiin'],word2idx['ol'],word2idx['chedy'],vectors,10)\n",
    "plt.scatter([i[0] for i in points], [i[1] for i in points]);"
   ]
  },
  {
   "cell_type": "code",
   "execution_count": 43,
   "metadata": {},
   "outputs": [
    {
     "data": {
      "image/png": "[encoded data removed]",
      "text/plain": [
       "<Figure size 432x288 with 1 Axes>"
      ]
     },
     "metadata": {
      "needs_background": "light"
     },
     "output_type": "display_data"
    }
   ],
   "source": [
    "points = compare(word2idx['daiin'],word2idx['otod'],word2idx['kchydy'],vectors,10)\n",
    "plt.scatter([i[0] for i in points], [i[1] for i in points]);"
   ]
  },
  {
   "cell_type": "code",
   "execution_count": null,
   "metadata": {},
   "outputs": [],
   "source": [
    "## Run the program.\n",
    "from sklearn.decomposition import PCA\n",
    "\n",
    "pairs = [('woman', 'man'),\n",
    "('sister', 'brother'),\n",
    "('daughter', 'son'),\n",
    "('mother', 'father'),\n",
    "('girl', 'boy'),\n",
    "('queen', 'king')]\n",
    "\n",
    "n=np.shape(pairs)[0]\n",
    "difference_matrix = np.array([vectors[word2idx[a[0]]]-vectors[word2idx[a[1]]] for a in pairs])\n",
    "\n",
    "pca = PCA(n_components=n)\n",
    "pca.fit(difference_matrix)\n",
    "\n",
    "words=[vectors[word2idx[word]] for word in np.concatenatepairs)]\n",
    "\n",
    "coord = pca.fit_transform(words)\n",
    "normalizer = Normalizer()\n",
    "coord =  normalizer.fit_transform(coord, 'l2')\n",
    "print(pca.explained_variance_ratio_)\n",
    "\n",
    "import matplotlib.pyplot as plt\n",
    "%matplotlib inline\n",
    "\n",
    "fig, axes = plt.subplots(figsize=(12,12))\n",
    "\n",
    "for i in range(n*2):\n",
    "    plt.annotate(np.concatenate(pairs)[i],(coord[i,0],coord[i,1]))\n",
    "\n",
    "for i in range (n):\n",
    "    plt.plot([coord[2*i,0],coord[2*i+1,0]],[coord[2*i,1],coord[2*i+1,1]])\n",
    "\n",
    "plt.show()"
   ]
  },
  {
   "cell_type": "markdown",
   "metadata": {},
   "source": [
    "Propriétés arithmétiques "
   ]
  },
  {
   "cell_type": "code",
   "execution_count": 24,
   "metadata": {
    "tags": [
     "outputPrepend"
    ]
   },
   "outputs": [
    {
     "name": "stdout",
     "output_type": "stream",
     "text": [
      "{'corpora': {'semeval-2016-2017-task3-subtaskBC': {'num_records': -1, 'record_format': 'dict', 'file_size': 6344358, 'reader_code': 'https://github.com/RaRe-Technologies/gensim-data/releases/download/semeval-2016-2017-task3-subtaskB-eng/__init__.py', 'license': 'All files released for the task are free for general research use', 'fields': {'2016-train': ['...'], '2016-dev': ['...'], '2017-test': ['...'], '2016-test': ['...']}, 'description': 'SemEval 2016 / 2017 Task 3 Subtask B and C datasets contain train+development (317 original questions, 3,169 related questions, and 31,690 comments), and test datasets in English. The description of the tasks and the collected data is given in sections 3 and 4.1 of the task paper http://alt.qcri.org/semeval2016/task3/data/uploads/semeval2016-task3-report.pdf linked in section “Papers” of https://github.com/RaRe-Technologies/gensim-data/issues/18.', 'checksum': '701ea67acd82e75f95e1d8e62fb0ad29', 'file_name': 'semeval-2016-2017-task3-subtaskBC.gz', 'read_more': ['http://alt.qcri.org/semeval2017/task3/', 'http://alt.qcri.org/semeval2017/task3/data/uploads/semeval2017-task3.pdf', 'https://github.com/RaRe-Technologies/gensim-data/issues/18', 'https://github.com/Witiko/semeval-2016_2017-task3-subtaskB-english'], 'parts': 1}, 'semeval-2016-2017-task3-subtaskA-unannotated': {'num_records': 189941, 'record_format': 'dict', 'file_size': 234373151, 'reader_code': 'https://github.com/RaRe-Technologies/gensim-data/releases/download/semeval-2016-2017-task3-subtaskA-unannotated-eng/__init__.py', 'license': 'These datasets are free for general research use.', 'fields': {'THREAD_SEQUENCE': '', 'RelQuestion': {'RELQ_CATEGORY': 'question category, according to the Qatar Living taxonomy', 'RELQ_DATE': 'date of posting', 'RELQ_ID': 'question indentifier', 'RELQ_USERID': 'identifier of the user asking the question', 'RELQ_USERNAME': 'name of the user asking the question', 'RelQBody': 'body of question', 'RelQSubject': 'subject of question'}, 'RelComments': [{'RelCText': 'text of answer', 'RELC_USERID': 'identifier of the user posting the comment', 'RELC_ID': 'comment identifier', 'RELC_USERNAME': 'name of the user posting the comment', 'RELC_DATE': 'date of posting'}]}, 'description': 'SemEval 2016 / 2017 Task 3 Subtask A unannotated dataset contains 189,941 questions and 1,894,456 comments in English collected from the Community Question Answering (CQA) web forum of Qatar Living. These can be used as a corpus for language modelling.', 'checksum': '2de0e2f2c4f91c66ae4fcf58d50ba816', 'file_name': 'semeval-2016-2017-task3-subtaskA-unannotated.gz', 'read_more': ['http://alt.qcri.org/semeval2016/task3/', 'http://alt.qcri.org/semeval2016/task3/data/uploads/semeval2016-task3-report.pdf', 'https://github.com/RaRe-Technologies/gensim-data/issues/18', 'https://github.com/Witiko/semeval-2016_2017-task3-subtaskA-unannotated-english'], 'parts': 1}, 'patent-2017': {'num_records': 353197, 'record_format': 'dict', 'file_size': 3087262469, 'reader_code': 'https://github.com/RaRe-Technologies/gensim-data/releases/download/patent-2017/__init__.py', 'license': 'not found', 'description': \"Patent Grant Full Text. Contains the full text including tables, sequence data and 'in-line' mathematical expressions of each patent grant issued in 2017.\", 'checksum-0': '818501f0b9af62d3b88294d86d509f8f', 'checksum-1': '66c05635c1d3c7a19b4a335829d09ffa', 'file_name': 'patent-2017.gz', 'read_more': ['http://patents.reedtech.com/pgrbft.php'], 'parts': 2}, 'quora-duplicate-questions': {'num_records': 404290, 'record_format': 'dict', 'file_size': 21684784, 'reader_code': 'https://github.com/RaRe-Technologies/gensim-data/releases/download/quora-duplicate-questions/__init__.py', 'license': 'probably https://www.quora.com/about/tos', 'fields': {'question1': 'the full text of each question', 'question2': 'the full text of each question', 'qid1': 'unique ids of each question', 'qid2': 'unique ids of each question', 'id': 'the id of a training set question pair', 'is_duplicate': 'the target variable, set to 1 if question1 and question2 have essentially the same meaning, and 0 otherwise'}, 'description': 'Over 400,000 lines of potential question duplicate pairs. Each line contains IDs for each question in the pair, the full text for each question, and a binary value that indicates whether the line contains a duplicate pair or not.', 'checksum': 'd7cfa7fbc6e2ec71ab74c495586c6365', 'file_name': 'quora-duplicate-questions.gz', 'read_more': ['https://data.quora.com/First-Quora-Dataset-Release-Question-Pairs'], 'parts': 1}, 'wiki-english-20171001': {'num_records': 4924894, 'record_format': 'dict', 'file_size': 6516051717, 'reader_code': 'https://github.com/RaRe-Technologies/gensim-data/releases/download/wiki-english-20171001/__init__.py', 'license': 'https://dumps.wikimedia.org/legal.html', 'fields': {'section_texts': 'list of body of sections', 'section_titles': 'list of titles of sections', 'title': 'Title of wiki article'}, 'description': 'Extracted Wikipedia dump from October 2017. Produced by `python -m gensim.scripts.segment_wiki -f enwiki-20171001-pages-articles.xml.bz2 -o wiki-en.gz`', 'checksum-0': 'a7d7d7fd41ea7e2d7fa32ec1bb640d71', 'checksum-1': 'b2683e3356ffbca3b6c2dca6e9801f9f', 'checksum-2': 'c5cde2a9ae77b3c4ebce804f6df542c2', 'checksum-3': '00b71144ed5e3aeeb885de84f7452b81', 'file_name': 'wiki-english-20171001.gz', 'read_more': ['https://dumps.wikimedia.org/enwiki/20171001/'], 'parts': 4}, 'text8': {'num_records': 1701, 'record_format': 'list of str (tokens)', 'file_size': 33182058, 'reader_code': 'https://github.com/RaRe-Technologies/gensim-data/releases/download/text8/__init__.py', 'license': 'not found', 'description': 'First 100,000,000 bytes of plain text from Wikipedia. Used for testing purposes; see wiki-english-* for proper full Wikipedia datasets.', 'checksum': '68799af40b6bda07dfa47a32612e5364', 'file_name': 'text8.gz', 'read_more': ['http://mattmahoney.net/dc/textdata.html'], 'parts': 1}, 'fake-news': {'num_records': 12999, 'record_format': 'dict', 'file_size': 20102776, 'reader_code': 'https://github.com/RaRe-Technologies/gensim-data/releases/download/fake-news/__init__.py', 'license': 'https://creativecommons.org/publicdomain/zero/1.0/', 'fields': {'crawled': 'date the story was archived', 'ord_in_thread': '', 'published': 'date published', 'participants_count': 'number of participants', 'shares': 'number of Facebook shares', 'replies_count': 'number of replies', 'main_img_url': 'image from story', 'spam_score': 'data from webhose.io', 'uuid': 'unique identifier', 'language': 'data from webhose.io', 'title': 'title of story', 'country': 'data from webhose.io', 'domain_rank': 'data from webhose.io', 'author': 'author of story', 'comments': 'number of Facebook comments', 'site_url': 'site URL from BS detector', 'text': 'text of story', 'thread_title': '', 'type': 'type of website (label from BS detector)', 'likes': 'number of Facebook likes'}, 'description': \"News dataset, contains text and metadata from 244 websites and represents 12,999 posts in total from a specific window of 30 days. The data was pulled using the webhose.io API, and because it's coming from their crawler, not all websites identified by their BS Detector are present in this dataset. Data sources that were missing a label were simply assigned a label of 'bs'. There are (ostensibly) no genuine, reliable, or trustworthy news sources represented in this dataset (so far), so don't trust anything you read.\", 'checksum': '5e64e942df13219465927f92dcefd5fe', 'file_name': 'fake-news.gz', 'read_more': ['https://www.kaggle.com/mrisdal/fake-news'], 'parts': 1}, '20-newsgroups': {'num_records': 18846, 'record_format': 'dict', 'file_size': 14483581, 'reader_code': 'https://github.com/RaRe-Technologies/gensim-data/releases/download/20-newsgroups/__init__.py', 'license': 'not found', 'fields': {'topic': 'name of topic (20 variant of possible values)', 'set': \"marker of original split (possible values 'train' and 'test')\", 'data': '', 'id': 'original id inferred from folder name'}, 'description': 'The notorious collection of approximately 20,000 newsgroup posts, partitioned (nearly) evenly across 20 different newsgroups.', 'checksum': 'c92fd4f6640a86d5ba89eaad818a9891', 'file_name': '20-newsgroups.gz', 'read_more': ['http://qwone.com/~jason/20Newsgroups/'], 'parts': 1}, '__testing_matrix-synopsis': {'description': '[THIS IS ONLY FOR TESTING] Synopsis of the movie matrix.', 'checksum': '1767ac93a089b43899d54944b07d9dc5', 'file_name': '__testing_matrix-synopsis.gz', 'read_more': ['http://www.imdb.com/title/tt0133093/plotsummary?ref_=ttpl_pl_syn#synopsis'], 'parts': 1}, '__testing_multipart-matrix-synopsis': {'description': '[THIS IS ONLY FOR TESTING] Synopsis of the movie matrix.', 'checksum-0': 'c8b0c7d8cf562b1b632c262a173ac338', 'checksum-1': '5ff7fc6818e9a5d9bc1cf12c35ed8b96', 'checksum-2': '966db9d274d125beaac7987202076cba', 'file_name': '__testing_multipart-matrix-synopsis.gz', 'read_more': ['http://www.imdb.com/title/tt0133093/plotsummary?ref_=ttpl_pl_syn#synopsis'], 'parts': 3}}, 'models': {'fasttext-wiki-news-subwords-300': {'num_records': 999999, 'file_size': 1005007116, 'base_dataset': 'Wikipedia 2017, UMBC webbase corpus and statmt.org news dataset (16B tokens)', 'reader_code': 'https://github.com/RaRe-Technologies/gensim-data/releases/download/fasttext-wiki-news-subwords-300/__init__.py', 'license': 'https://creativecommons.org/licenses/by-sa/3.0/', 'parameters': {'dimension': 300}, 'description': '1 million word vectors trained on Wikipedia 2017, UMBC webbase corpus and statmt.org news dataset (16B tokens).', 'read_more': ['https://fasttext.cc/docs/en/english-vectors.html', 'https://arxiv.org/abs/1712.09405', 'https://arxiv.org/abs/1607.01759'], 'checksum': 'de2bb3a20c46ce65c9c131e1ad9a77af', 'file_name': 'fasttext-wiki-news-subwords-300.gz', 'parts': 1}, 'conceptnet-numberbatch-17-06-300': {'num_records': 1917247, 'file_size': 1225497562, 'base_dataset': 'ConceptNet, word2vec, GloVe, and OpenSubtitles 2016', 'reader_code': 'https://github.com/RaRe-Technologies/gensim-data/releases/download/conceptnet-numberbatch-17-06-300/__init__.py', 'license': 'https://github.com/commonsense/conceptnet-numberbatch/blob/master/LICENSE.txt', 'parameters': {'dimension': 300}, 'description': 'ConceptNet Numberbatch consists of state-of-the-art semantic vectors (also known as word embeddings) that can be used directly as a representation of word meanings or as a starting point for further machine learning. ConceptNet Numberbatch is part of the ConceptNet open data project. ConceptNet provides lots of ways to compute with word meanings, one of which is word embeddings. ConceptNet Numberbatch is a snapshot of just the word embeddings. It is built using an ensemble that combines data from ConceptNet, word2vec, GloVe, and OpenSubtitles 2016, using a variation on retrofitting.', 'read_more': ['http://aaai.org/ocs/index.php/AAAI/AAAI17/paper/view/14972', 'https://github.com/commonsense/conceptnet-numberbatch', 'http://conceptnet.io/'], 'checksum': 'fd642d457adcd0ea94da0cd21b150847', 'file_name': 'conceptnet-numberbatch-17-06-300.gz', 'parts': 1}, 'word2vec-ruscorpora-300': {'num_records': 184973, 'file_size': 208427381, 'base_dataset': 'Russian National Corpus (about 250M words)', 'reader_code': 'https://github.com/RaRe-Technologies/gensim-data/releases/download/word2vec-ruscorpora-300/__init__.py', 'license': 'https://creativecommons.org/licenses/by/4.0/deed.en', 'parameters': {'dimension': 300, 'window_size': 10}, 'description': 'Word2vec Continuous Skipgram vectors trained on full Russian National Corpus (about 250M words). The model contains 185K words.', 'preprocessing': 'The corpus was lemmatized and tagged with Universal PoS', 'read_more': ['https://www.academia.edu/24306935/WebVectors_a_Toolkit_for_Building_Web_Interfaces_for_Vector_Semantic_Models', 'http://rusvectores.org/en/', 'https://github.com/RaRe-Technologies/gensim-data/issues/3'], 'checksum': '9bdebdc8ae6d17d20839dd9b5af10bc4', 'file_name': 'word2vec-ruscorpora-300.gz', 'parts': 1}, 'word2vec-google-news-300': {'num_records': 3000000, 'file_size': 1743563840, 'base_dataset': 'Google News (about 100 billion words)', 'reader_code': 'https://github.com/RaRe-Technologies/gensim-data/releases/download/word2vec-google-news-300/__init__.py', 'license': 'not found', 'parameters': {'dimension': 300}, 'description': \"Pre-trained vectors trained on a part of the Google News dataset (about 100 billion words). The model contains 300-dimensional vectors for 3 million words and phrases. The phrases were obtained using a simple data-driven approach described in 'Distributed Representations of Words and Phrases and their Compositionality' (https://code.google.com/archive/p/word2vec/).\", 'read_more': ['https://code.google.com/archive/p/word2vec/', 'https://arxiv.org/abs/1301.3781', 'https://arxiv.org/abs/1310.4546', 'https://www.microsoft.com/en-us/research/publication/linguistic-regularities-in-continuous-space-word-representations/?from=http%3A%2F%2Fresearch.microsoft.com%2Fpubs%2F189726%2Frvecs.pdf'], 'checksum': 'a5e5354d40acb95f9ec66d5977d140ef', 'file_name': 'word2vec-google-news-300.gz', 'parts': 1}, 'glove-wiki-gigaword-50': {'num_records': 400000, 'file_size': 69182535, 'base_dataset': 'Wikipedia 2014 + Gigaword 5 (6B tokens, uncased)', 'reader_code': 'https://github.com/RaRe-Technologies/gensim-data/releases/download/glove-wiki-gigaword-50/__init__.py', 'license': 'http://opendatacommons.org/licenses/pddl/', 'parameters': {'dimension': 50}, 'description': 'Pre-trained vectors based on Wikipedia 2014 + Gigaword, 5.6B tokens, 400K vocab, uncased (https://nlp.stanford.edu/projects/glove/).', 'preprocessing': 'Converted to w2v format with `python -m gensim.scripts.glove2word2vec -i <fname> -o glove-wiki-gigaword-50.txt`.', 'read_more': ['https://nlp.stanford.edu/projects/glove/', 'https://nlp.stanford.edu/pubs/glove.pdf'], 'checksum': 'c289bc5d7f2f02c6dc9f2f9b67641813', 'file_name': 'glove-wiki-gigaword-50.gz', 'parts': 1}, 'glove-wiki-gigaword-100': {'num_records': 400000, 'file_size': 134300434, 'base_dataset': 'Wikipedia 2014 + Gigaword 5 (6B tokens, uncased)', 'reader_code': 'https://github.com/RaRe-Technologies/gensim-data/releases/download/glove-wiki-gigaword-100/__init__.py', 'license': 'http://opendatacommons.org/licenses/pddl/', 'parameters': {'dimension': 100}, 'description': 'Pre-trained vectors based on Wikipedia 2014 + Gigaword 5.6B tokens, 400K vocab, uncased (https://nlp.stanford.edu/projects/glove/).', 'preprocessing': 'Converted to w2v format with `python -m gensim.scripts.glove2word2vec -i <fname> -o glove-wiki-gigaword-100.txt`.', 'read_more': ['https://nlp.stanford.edu/projects/glove/', 'https://nlp.stanford.edu/pubs/glove.pdf'], 'checksum': '40ec481866001177b8cd4cb0df92924f', 'file_name': 'glove-wiki-gigaword-100.gz', 'parts': 1}, 'glove-wiki-gigaword-200': {'num_records': 400000, 'file_size': 264336934, 'base_dataset': 'Wikipedia 2014 + Gigaword 5 (6B tokens, uncased)', 'reader_code': 'https://github.com/RaRe-Technologies/gensim-data/releases/download/glove-wiki-gigaword-200/__init__.py', 'license': 'http://opendatacommons.org/licenses/pddl/', 'parameters': {'dimension': 200}, 'description': 'Pre-trained vectors based on Wikipedia 2014 + Gigaword, 5.6B tokens, 400K vocab, uncased (https://nlp.stanford.edu/projects/glove/).', 'preprocessing': 'Converted to w2v format with `python -m gensim.scripts.glove2word2vec -i <fname> -o glove-wiki-gigaword-200.txt`.', 'read_more': ['https://nlp.stanford.edu/projects/glove/', 'https://nlp.stanford.edu/pubs/glove.pdf'], 'checksum': '59652db361b7a87ee73834a6c391dfc1', 'file_name': 'glove-wiki-gigaword-200.gz', 'parts': 1}, 'glove-wiki-gigaword-300': {'num_records': 400000, 'file_size': 394362229, 'base_dataset': 'Wikipedia 2014 + Gigaword 5 (6B tokens, uncased)', 'reader_code': 'https://github.com/RaRe-Technologies/gensim-data/releases/download/glove-wiki-gigaword-300/__init__.py', 'license': 'http://opendatacommons.org/licenses/pddl/', 'parameters': {'dimension': 300}, 'description': 'Pre-trained vectors based on Wikipedia 2014 + Gigaword, 5.6B tokens, 400K vocab, uncased (https://nlp.stanford.edu/projects/glove/).', 'preprocessing': 'Converted to w2v format with `python -m gensim.scripts.glove2word2vec -i <fname> -o glove-wiki-gigaword-300.txt`.', 'read_more': ['https://nlp.stanford.edu/projects/glove/', 'https://nlp.stanford.edu/pubs/glove.pdf'], 'checksum': '29e9329ac2241937d55b852e8284e89b', 'file_name': 'glove-wiki-gigaword-300.gz', 'parts': 1}, 'glove-twitter-25': {'num_records': 1193514, 'file_size': 109885004, 'base_dataset': 'Twitter (2B tweets, 27B tokens, 1.2M vocab, uncased)', 'reader_code': 'https://github.com/RaRe-Technologies/gensim-data/releases/download/glove-twitter-25/__init__.py', 'license': 'http://opendatacommons.org/licenses/pddl/', 'parameters': {'dimension': 25}, 'description': 'Pre-trained vectors based on 2B tweets, 27B tokens, 1.2M vocab, uncased (https://nlp.stanford.edu/projects/glove/).', 'preprocessing': 'Converted to w2v format with `python -m gensim.scripts.glove2word2vec -i <fname> -o glove-twitter-25.txt`.', 'read_more': ['https://nlp.stanford.edu/projects/glove/', 'https://nlp.stanford.edu/pubs/glove.pdf'], 'checksum': '50db0211d7e7a2dcd362c6b774762793', 'file_name': 'glove-twitter-25.gz', 'parts': 1}, 'glove-twitter-50': {'num_records': 1193514, 'file_size': 209216938, 'base_dataset': 'Twitter (2B tweets, 27B tokens, 1.2M vocab, uncased)', 'reader_code': 'https://github.com/RaRe-Technologies/gensim-data/releases/download/glove-twitter-50/__init__.py', 'license': 'http://opendatacommons.org/licenses/pddl/', 'parameters': {'dimension': 50}, 'description': 'Pre-trained vectors based on 2B tweets, 27B tokens, 1.2M vocab, uncased (https://nlp.stanford.edu/projects/glove/)', 'preprocessing': 'Converted to w2v format with `python -m gensim.scripts.glove2word2vec -i <fname> -o glove-twitter-50.txt`.', 'read_more': ['https://nlp.stanford.edu/projects/glove/', 'https://nlp.stanford.edu/pubs/glove.pdf'], 'checksum': 'c168f18641f8c8a00fe30984c4799b2b', 'file_name': 'glove-twitter-50.gz', 'parts': 1}, 'glove-twitter-100': {'num_records': 1193514, 'file_size': 405932991, 'base_dataset': 'Twitter (2B tweets, 27B tokens, 1.2M vocab, uncased)', 'reader_code': 'https://github.com/RaRe-Technologies/gensim-data/releases/download/glove-twitter-100/__init__.py', 'license': 'http://opendatacommons.org/licenses/pddl/', 'parameters': {'dimension': 100}, 'description': 'Pre-trained vectors based on  2B tweets, 27B tokens, 1.2M vocab, uncased (https://nlp.stanford.edu/projects/glove/)', 'preprocessing': 'Converted to w2v format with `python -m gensim.scripts.glove2word2vec -i <fname> -o glove-twitter-100.txt`.', 'read_more': ['https://nlp.stanford.edu/projects/glove/', 'https://nlp.stanford.edu/pubs/glove.pdf'], 'checksum': 'b04f7bed38756d64cf55b58ce7e97b15', 'file_name': 'glove-twitter-100.gz', 'parts': 1}, 'glove-twitter-200': {'num_records': 1193514, 'file_size': 795373100, 'base_dataset': 'Twitter (2B tweets, 27B tokens, 1.2M vocab, uncased)', 'reader_code': 'https://github.com/RaRe-Technologies/gensim-data/releases/download/glove-twitter-200/__init__.py', 'license': 'http://opendatacommons.org/licenses/pddl/', 'parameters': {'dimension': 200}, 'description': 'Pre-trained vectors based on 2B tweets, 27B tokens, 1.2M vocab, uncased (https://nlp.stanford.edu/projects/glove/).', 'preprocessing': 'Converted to w2v format with `python -m gensim.scripts.glove2word2vec -i <fname> -o glove-twitter-200.txt`.', 'read_more': ['https://nlp.stanford.edu/projects/glove/', 'https://nlp.stanford.edu/pubs/glove.pdf'], 'checksum': 'e52e8392d1860b95d5308a525817d8f9', 'file_name': 'glove-twitter-200.gz', 'parts': 1}, '__testing_word2vec-matrix-synopsis': {'description': '[THIS IS ONLY FOR TESTING] Word vecrors of the movie matrix.', 'parameters': {'dimensions': 50}, 'preprocessing': 'Converted to w2v using a preprocessed corpus. Converted to w2v format with `python3.5 -m gensim.models.word2vec -train <input_filename> -iter 50 -output <output_filename>`.', 'read_more': [], 'checksum': '534dcb8b56a360977a269b7bfc62d124', 'file_name': '__testing_word2vec-matrix-synopsis.gz', 'parts': 1}}}\n"
     ]
    }
   ],
   "source": [
    "import gensim.downloader as api\n",
    "print(api.info())"
   ]
  },
  {
   "cell_type": "code",
   "execution_count": 25,
   "metadata": {},
   "outputs": [
    {
     "name": "stdout",
     "output_type": "stream",
     "text": [
      "[==================================================] 100.0% 252.1/252.1MB downloaded\n"
     ]
    }
   ],
   "source": [
    "model = api.load(\"glove-wiki-gigaword-200\")"
   ]
  },
  {
   "cell_type": "code",
   "execution_count": null,
   "metadata": {},
   "outputs": [],
   "source": [
    "model.most_similar(\"king\")"
   ]
  },
  {
   "cell_type": "code",
   "execution_count": null,
   "metadata": {},
   "outputs": [],
   "source": [
    "model.most_similar(positive=['King', 'WomanKing'], )"
   ]
  },
  {
   "cell_type": "code",
   "execution_count": 22,
   "metadata": {},
   "outputs": [
    {
     "ename": "AttributeError",
     "evalue": "'Word2vec' object has no attribute 'corpus_count'",
     "output_type": "error",
     "traceback": [
      "\u001b[1;31m---------------------------------------------------------------------------\u001b[0m",
      "\u001b[1;31mAttributeError\u001b[0m                            Traceback (most recent call last)",
      "\u001b[1;32m<ipython-input-22-e6e80ba36572>\u001b[0m in \u001b[0;36m<module>\u001b[1;34m\u001b[0m\n\u001b[1;32m----> 1\u001b[1;33m \u001b[0mword2vec\u001b[0m\u001b[1;33m.\u001b[0m\u001b[0mcorpus_count\u001b[0m\u001b[1;33m\u001b[0m\u001b[1;33m\u001b[0m\u001b[0m\n\u001b[0m",
      "\u001b[1;31mAttributeError\u001b[0m: 'Word2vec' object has no attribute 'corpus_count'"
     ]
    }
   ],
   "source": [
    "model.corpus_count"
   ]
  }
 ],
 "metadata": {
  "kernelspec": {
   "display_name": "Python 3",
   "language": "python",
   "name": "python3"
  },
  "language_info": {
   "codemirror_mode": {
    "name": "ipython",
    "version": 3
   },
   "file_extension": ".py",
   "mimetype": "text/x-python",
   "name": "python",
   "nbconvert_exporter": "python",
   "pygments_lexer": "ipython3",
   "version": "3.8.3"
  }
 },
 "nbformat": 4,
 "nbformat_minor": 4
}
